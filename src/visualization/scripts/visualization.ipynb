{
 "cells": [
  {
   "cell_type": "code",
   "execution_count": null,
   "metadata": {},
   "outputs": [],
   "source": [
    "import os\n",
    "import torch\n",
    "import pandas as pd\n",
    "import numpy as np\n",
    "from torch.utils.data import DataLoader\n",
    "from IPython.display import Image"
   ]
  },
  {
   "cell_type": "code",
   "execution_count": null,
   "metadata": {},
   "outputs": [],
   "source": [
    "from models.scripts.lstm import AssetDataset, AssetRelationshipModel, plot_correlation_matrix_with_labels\n",
    "from models.scripts.pearson import calculate_returns, analyze_correlation, rolling_correlation_multi\n",
    "from models.scripts.var import DataProcessor, VARModel, Plotter"
   ]
  },
  {
   "cell_type": "code",
   "execution_count": 21,
   "metadata": {},
   "outputs": [],
   "source": [
    "input_file = \"./processed_data/processed_data.csv\"\n",
    "output_dir = \"./results\""
   ]
  },
  {
   "cell_type": "markdown",
   "metadata": {},
   "source": [
    "### 1. Load and normalize the data"
   ]
  },
  {
   "cell_type": "code",
   "execution_count": null,
   "metadata": {},
   "outputs": [],
   "source": [
    "prices = pd.read_csv(input_file, index_col=0, parse_dates=True)\n",
    "normalized_data = (prices - prices.min()) / (prices.max() - prices.min())\n",
    "data_values = normalized_data.values"
   ]
  },
  {
   "cell_type": "markdown",
   "metadata": {},
   "source": [
    "### 2. Using different methods analyze the correlation \n",
    "#### 2.1 VAR model(non-linear)"
   ]
  },
  {
   "cell_type": "code",
   "execution_count": null,
   "metadata": {},
   "outputs": [],
   "source": [
    "processor = DataProcessor(input_file)\n",
    "data = processor.load_data()\n",
    "processor.check_missing_values()\n",
    "processor.fill_missing_values()\n",
    "processor.check_date_range()\n",
    "normalized_data_for_var = processor.normalize_data()\n",
    "var_plot_path = os.path.join(output_dir, \"normalized_asset_prices.png\")"
   ]
  },
  {
   "cell_type": "code",
   "execution_count": null,
   "metadata": {},
   "outputs": [],
   "source": [
    "var_model = VARModel(data)\n",
    "best_lag = var_model.select_best_lag()\n",
    "var_model.fit_model(best_lag)\n",
    "causality_results = var_model.test_causality()"
   ]
  },
  {
   "cell_type": "code",
   "execution_count": null,
   "metadata": {},
   "outputs": [],
   "source": [
    "plotter = Plotter(normalized_data_for_var)\n",
    "plotter.plot_normalized_data_with_causality(var_plot_path, causality_results)"
   ]
  },
  {
   "cell_type": "markdown",
   "metadata": {},
   "source": [
    "#### 2.2 LSTM model(non-linear)"
   ]
  },
  {
   "cell_type": "code",
   "execution_count": null,
   "metadata": {},
   "outputs": [],
   "source": [
    "seq_length = 10\n",
    "input_size = data_values.shape[1]\n",
    "hidden_size = 64\n",
    "num_layers = 2\n",
    "output_size = input_size\n",
    "batch_size = 32\n",
    "num_epochs = 10\n",
    "learning_rate = 0.001\n",
    "\n",
    "dataset = AssetDataset(data_values, seq_length)\n",
    "train_loader = DataLoader(dataset, batch_size=batch_size, shuffle=True)\n",
    "model = AssetRelationshipModel(input_size, hidden_size, num_layers, output_size)\n",
    "features = []\n",
    "with torch.no_grad():\n",
    "    for i in range(len(dataset)):\n",
    "        inputs, _ = dataset[i]\n",
    "        inputs = inputs.unsqueeze(0)\n",
    "        feature = model(inputs).squeeze().numpy()\n",
    "        features.append(feature)\n",
    "features = np.array(features)\n",
    "\n",
    "corr_matrix = np.corrcoef(features.T)\n",
    "asset_labels = list(prices.columns)\n",
    "\n",
    "corr_heatmap_path = os.path.join(output_dir, \"lstm_correlation_heatmap_with_labels.png\")\n",
    "plot_correlation_matrix_with_labels(corr_matrix, asset_labels, corr_heatmap_path)\n",
    "Image(filename=corr_heatmap_path)"
   ]
  },
  {
   "cell_type": "markdown",
   "metadata": {},
   "source": [
    "#### 2.3 Pearson Correlation(linear)"
   ]
  },
  {
   "cell_type": "code",
   "execution_count": null,
   "metadata": {},
   "outputs": [],
   "source": [
    "returns = calculate_returns(prices)\n",
    "corr_csv = os.path.join(output_dir, \"correlation_matrix.csv\")\n",
    "corr_matrix_returns = analyze_correlation(returns, output_path=corr_csv)\n",
    "rolling_corr_path = os.path.join(output_dir, \"rolling_correlation_multi.png\")\n",
    "rolling_correlation_multi(returns, base_asset=\"BTC\", compare_assets=[\"SPY\", \"GLD\", \"AGG\"], window=30, output_path=rolling_corr_path)\n",
    "Image(filename=rolling_corr_path)"
   ]
  }
 ],
 "metadata": {
  "kernelspec": {
   "display_name": "Python 3",
   "language": "python",
   "name": "python3"
  },
  "language_info": {
   "codemirror_mode": {
    "name": "ipython",
    "version": 3
   },
   "file_extension": ".py",
   "mimetype": "text/x-python",
   "name": "python",
   "nbconvert_exporter": "python",
   "pygments_lexer": "ipython3",
   "version": "3.9.6"
  }
 },
 "nbformat": 4,
 "nbformat_minor": 4
}
