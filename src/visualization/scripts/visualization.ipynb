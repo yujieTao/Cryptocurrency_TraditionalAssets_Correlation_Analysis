{
 "cells": [
  {
   "cell_type": "code",
   "execution_count": null,
   "metadata": {},
   "outputs": [],
   "source": [
    "# visualization.ipynb\n",
    "\n",
    "import os\n",
    "import matplotlib.pyplot as plt\n",
    "\n",
    "results_dir = \"./results\"\n",
    "\n",
    "if not os.path.exists(results_dir):\n",
    "    print(\"false\")\n",
    "else:\n",
    "    images = [f for f in os.listdir(results_dir) if f.endswith(('png', 'jpg', 'jpeg'))]\n",
    "    \n",
    "    if len(images) == 0:\n",
    "        print(\"empty\")\n",
    "    else:\n",
    "        for image_file in images:\n",
    "            img_path = os.path.join(results_dir, image_file)\n",
    "            img = plt.imread(img_path)\n",
    "            plt.figure()\n",
    "            plt.imshow(img)\n",
    "            plt.title(image_file)\n",
    "            plt.axis('off') \n",
    "            plt.show()"
   ]
  }
 ],
 "metadata": {
  "language_info": {
   "name": "python"
  }
 },
 "nbformat": 4,
 "nbformat_minor": 2
}
