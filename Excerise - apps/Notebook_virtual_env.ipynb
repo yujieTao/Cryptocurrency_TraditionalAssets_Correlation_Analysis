{
 "cells": [
  {
   "cell_type": "markdown",
   "id": "d665c692-37b7-4de2-a3e1-0f09360178f1",
   "metadata": {},
   "source": [
    "# My First Jupyter Notebook\n",
    "\n",
    "This notebook demonstrates how to create a Jupyter kernel for a virtual environment and use **ipywidgets** for interactive elements."
   ]
  },
  {
   "cell_type": "code",
   "execution_count": 1,
   "id": "17790010-c329-4203-ba09-89948c9b2983",
   "metadata": {},
   "outputs": [
    {
     "data": {
      "application/vnd.jupyter.widget-view+json": {
       "model_id": "d133a657921843deb89776cb786fd253",
       "version_major": 2,
       "version_minor": 0
      },
      "text/plain": [
       "IntSlider(value=50, description='Slider:')"
      ]
     },
     "metadata": {},
     "output_type": "display_data"
    },
    {
     "data": {
      "application/vnd.jupyter.widget-view+json": {
       "model_id": "bf4b1bbdb6fc48edb80adbb01e0265c4",
       "version_major": 2,
       "version_minor": 0
      },
      "text/plain": [
       "Button(description='Click me!', style=ButtonStyle())"
      ]
     },
     "metadata": {},
     "output_type": "display_data"
    }
   ],
   "source": [
    "import ipywidgets as widgets\n",
    "from IPython.display import display\n",
    "\n",
    "slider = widgets.IntSlider(value=50, min=0, max=100, step=1, description='Slider:')\n",
    "display(slider)\n",
    "\n",
    "def on_button_click(b):\n",
    "    print(f\"Button clicked: {slider.value}\")\n",
    "\n",
    "button = widgets.Button(description=\"Click me!\")\n",
    "button.on_click(on_button_click)\n",
    "display(button)"
   ]
  }
 ],
 "metadata": {
  "kernelspec": {
   "display_name": "Python (jupyter_env)",
   "language": "python",
   "name": "jupyter_env"
  },
  "language_info": {
   "codemirror_mode": {
    "name": "ipython",
    "version": 3
   },
   "file_extension": ".py",
   "mimetype": "text/x-python",
   "name": "python",
   "nbconvert_exporter": "python",
   "pygments_lexer": "ipython3",
   "version": "3.12.7"
  }
 },
 "nbformat": 4,
 "nbformat_minor": 5
}
